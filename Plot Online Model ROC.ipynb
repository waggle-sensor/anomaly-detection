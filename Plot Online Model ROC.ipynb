{
 "cells": [
  {
   "cell_type": "code",
   "execution_count": 1,
   "metadata": {},
   "outputs": [],
   "source": [
    "import matplotlib.pyplot as plt\n",
    "import matplotlib.cm\n",
    "import numpy as np\n",
    "from tqdm.notebook import tqdm\n",
    "\n",
    "import os\n",
    "import pickle as pkl\n",
    "\n",
    "from attention_cae import Attention_CAE"
   ]
  },
  {
   "cell_type": "code",
   "execution_count": 2,
   "metadata": {},
   "outputs": [],
   "source": [
    "def compute_operator_auc(y_func, x_func, cms):\n",
    "    pts = [ (x_func(cm),y_func(cm)) for cm in cms ]\n",
    "    pts = np.array([(0,0)] + sorted(pts, key=lambda p : p[0]) + [(1,1)])\n",
    "    auc = np.trapz(y=pts[:,1],x=pts[:,0])\n",
    "    return auc\n",
    "\n",
    "def plot_operator_curve(y_func, x_func, cms, \n",
    "                        y_name='Y', x_name='X', title='Operator Curve'):\n",
    "    pts = [ (x_func(cm),y_func(cm)) for cm in cms ]\n",
    "    pts = np.array([(0,0)] + sorted(pts, key=lambda p : p[0]) + [(1,1)])\n",
    "    plt.figure()\n",
    "    plt.title(title)\n",
    "    plt.plot(pts[:,0],pts[:,1], 'b')\n",
    "    plt.plot([0,1],[0,1], 'r:')\n",
    "    plt.xlabel(x_name)\n",
    "    plt.ylabel(y_name)\n",
    "    plt.show()\n",
    "    \n",
    "def plot_operator_curves(y_func, x_func, cms_list, legend,\n",
    "                        y_name='Y', x_name='X', title='Operator Curves'):\n",
    "    plt.figure()\n",
    "    plt.title(title)\n",
    "    plt.plot([0,1],[0,1], 'r:')\n",
    "    for cms, label in zip(cms_list,legend):\n",
    "        pts = [ (x_func(cm),y_func(cm)) for cm in cms ]\n",
    "        pts = np.array([(0,0)] + sorted(pts, key=lambda p : p[0]) + [(1,1)])\n",
    "        plt.plot(pts[:,0],pts[:,1], label=label)\n",
    "    plt.xlabel(x_name)\n",
    "    plt.ylabel(y_name)\n",
    "    plt.legend()\n",
    "    plt.show()\n",
    "\n",
    "def load_cm(file):\n",
    "    with open(file, 'rb') as f:\n",
    "        cms = pkl.load(f)\n",
    "    return cms"
   ]
  },
  {
   "cell_type": "code",
   "execution_count": 3,
   "metadata": {},
   "outputs": [],
   "source": [
    "CM_FILES = [\n",
    "    'data/cm_data_ld64_eq10.pkl',\n",
    "    'data/cm_data_ld64_eq20.pkl',\n",
    "    'data/cm_data_ld64_eq40.pkl',\n",
    "    'data/cm_data_ld64_eq60.pkl'\n",
    "]\n",
    "\n",
    "CM_LABELS = [ 'N = 10', 'N = 20', 'N = 40', 'N = 60' ]\n",
    "confusion_matrices = [ load_cm(f) for f in CM_FILES ]\n"
   ]
  },
  {
   "cell_type": "code",
   "execution_count": 4,
   "metadata": {},
   "outputs": [
    {
     "data": {
      "image/png": "[encoded data removed]",
      "text/plain": [
       "<Figure size 432x288 with 1 Axes>"
      ]
     },
     "metadata": {
      "needs_background": "light"
     },
     "output_type": "display_data"
    },
    {
     "name": "stdout",
     "output_type": "stream",
     "text": [
      "====== Areas Under ROC Curve ======\n",
      "[N = 10]: 0.6201605642256902\n",
      "[N = 20]: 0.6768082232893157\n",
      "[N = 40]: 0.6332533013205282\n",
      "[N = 60]: 0.6320153061224489\n"
     ]
    }
   ],
   "source": [
    "\n",
    "TPR = lambda cm : cm['TP'] / (cm['TP'] + cm['FN'])\n",
    "FPR = lambda cm : cm['FP'] / (cm['TN'] + cm['FP'])\n",
    "\n",
    "plot_operator_curves(TPR,FPR,confusion_matrices, CM_LABELS,\n",
    "                    y_name='True Positive Rate',\n",
    "                    x_name='False Positive Rate',\n",
    "                    title='ROC Curve Plots (Varying EHS Sizes)')\n",
    "\n",
    "print('======', 'Areas Under ROC Curve', '======')\n",
    "for cms, label in zip(confusion_matrices, CM_LABELS):\n",
    "    auc = compute_operator_auc(TPR, FPR, cms)\n",
    "    print(f'[{label}]: {auc}')"
   ]
  },
  {
   "cell_type": "code",
   "execution_count": 15,
   "metadata": {},
   "outputs": [
    {
     "name": "stdout",
     "output_type": "stream",
     "text": [
      "N = 10 \\\\\n",
      "0.0017  &  0.0000  &  0.0226  \\\\\n",
      "0.0060  &  0.1429  &  0.0389  \\\\\n",
      "0.0215  &  0.1429  &  0.0846  \\\\\n",
      "0.0774  &  0.4286  &  0.2679  \\\\\n",
      "0.2783  &  0.8571  &  0.6870  \\\\\n",
      "N = 20 \\\\\n",
      "0.0017  &  0.1429  &  0.0289  \\\\\n",
      "0.0060  &  0.1429  &  0.0452  \\\\\n",
      "0.0215  &  0.2857  &  0.1014  \\\\\n",
      "0.0774  &  0.5714  &  0.2700  \\\\\n",
      "0.2783  &  0.8571  &  0.6896  \\\\\n",
      "N = 40 \\\\\n",
      "0.0017  &  0.0000  &  0.0289  \\\\\n",
      "0.0060  &  0.1429  &  0.0441  \\\\\n",
      "0.0215  &  0.2857  &  0.0924  \\\\\n",
      "0.0774  &  0.5714  &  0.2584  \\\\\n",
      "0.2783  &  0.7143  &  0.6549  \\\\\n",
      "N = 60 \\\\\n",
      "0.0017  &  0.1429  &  0.0257  \\\\\n",
      "0.0060  &  0.1429  &  0.0425  \\\\\n",
      "0.0215  &  0.1429  &  0.0898  \\\\\n",
      "0.0774  &  0.5714  &  0.2447  \\\\\n",
      "0.2783  &  0.7143  &  0.6255  \\\\\n"
     ]
    }
   ],
   "source": [
    "# output detailed information:\n",
    "\n",
    "ALPHAS = np.power(10,np.linspace(-5, 0, 10))\n",
    "for cms, label in zip(confusion_matrices, CM_LABELS):\n",
    "    print(label + ' \\\\\\\\')\n",
    "    for cm, alpha in list(zip(cms,ALPHAS))[4:-1]:\n",
    "        print(f'{alpha:.4f}  &  {TPR(cm):.4f}  &  {FPR(cm):.4f}  \\\\\\\\')"
   ]
  },
  {
   "cell_type": "code",
   "execution_count": null,
   "metadata": {},
   "outputs": [],
   "source": []
  }
 ],
 "metadata": {
  "kernelspec": {
   "display_name": "Python 3",
   "language": "python",
   "name": "python3"
  },
  "language_info": {
   "codemirror_mode": {
    "name": "ipython",
    "version": 3
   },
   "file_extension": ".py",
   "mimetype": "text/x-python",
   "name": "python",
   "nbconvert_exporter": "python",
   "pygments_lexer": "ipython3",
   "version": "3.6.9"
  }
 },
 "nbformat": 4,
 "nbformat_minor": 2
}
